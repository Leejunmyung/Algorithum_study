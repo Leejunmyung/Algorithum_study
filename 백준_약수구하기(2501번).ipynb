{
 "cells": [
  {
   "cell_type": "markdown",
   "metadata": {},
   "source": [
    "### 문제\n",
    "백준_약수구하기 - [link](https://www.acmicpc.net/problem/2501)"
   ]
  },
  {
   "cell_type": "code",
   "execution_count": 15,
   "metadata": {},
   "outputs": [
    {
     "name": "stdout",
     "output_type": "stream",
     "text": [
      "2735 1\n",
      "1\n"
     ]
    }
   ],
   "source": [
    "import sys\n",
    "a, b = map(int, input().split())\n",
    "result = []\n",
    "\n",
    "for i in range(1,a+1):\n",
    "    if a % i == 0:\n",
    "        result.append(i)\n",
    "\n",
    "if len(result) < b:\n",
    "    print(0)\n",
    "else:\n",
    "    print(result[b-1])"
   ]
  },
  {
   "cell_type": "code",
   "execution_count": null,
   "metadata": {},
   "outputs": [],
   "source": []
  }
 ],
 "metadata": {
  "kernelspec": {
   "display_name": "Python 3",
   "language": "python",
   "name": "python3"
  },
  "language_info": {
   "codemirror_mode": {
    "name": "ipython",
    "version": 3
   },
   "file_extension": ".py",
   "mimetype": "text/x-python",
   "name": "python",
   "nbconvert_exporter": "python",
   "pygments_lexer": "ipython3",
   "version": "3.8.3"
  }
 },
 "nbformat": 4,
 "nbformat_minor": 4
}
