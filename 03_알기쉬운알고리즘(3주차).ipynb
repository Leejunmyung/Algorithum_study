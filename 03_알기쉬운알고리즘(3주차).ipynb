{
 "cells": [
  {
   "cell_type": "markdown",
   "metadata": {},
   "source": [
    "### 버블정렬"
   ]
  },
  {
   "cell_type": "code",
   "execution_count": 15,
   "metadata": {},
   "outputs": [
    {
     "name": "stdout",
     "output_type": "stream",
     "text": [
      "[1, 2, 4, 6, 9]\n"
     ]
    }
   ],
   "source": [
    "input = [4, 6, 2, 9, 1]\n",
    "\n",
    "\n",
    "def bubble_sort(array):\n",
    "    n = len(array)\n",
    "    for i in range(n-1):\n",
    "        for j in range(n-i-1):\n",
    "            if array[j] > array[j+1]:\n",
    "                array[j], array[j+1] = array[j+1], array[j]\n",
    "    return array\n",
    "\n",
    "\n",
    "bubble_sort(input)\n",
    "print(input)  # [1, 2, 4, 6, 9] 가 되어야 합니다!"
   ]
  },
  {
   "cell_type": "code",
   "execution_count": 12,
   "metadata": {},
   "outputs": [
    {
     "name": "stdout",
     "output_type": "stream",
     "text": [
      "0\n",
      "1\n",
      "2\n",
      "3\n",
      "0\n",
      "1\n",
      "2\n",
      "0\n",
      "1\n",
      "0\n"
     ]
    }
   ],
   "source": [
    "for i in range(5 - 1):\n",
    "    for j in range(5-i-1):\n",
    "        print(j)"
   ]
  },
  {
   "cell_type": "markdown",
   "metadata": {},
   "source": [
    "### 선택정렬"
   ]
  },
  {
   "cell_type": "code",
   "execution_count": 4,
   "metadata": {},
   "outputs": [
    {
     "name": "stdout",
     "output_type": "stream",
     "text": [
      "[1, 2, 4, 6, 9]\n"
     ]
    }
   ],
   "source": [
    "input = [4, 6, 2, 9, 1]\n",
    "\n",
    "\n",
    "def selection_sort(array):\n",
    "    n = len(array)\n",
    "    for i in range(n-1):\n",
    "        min_index = i\n",
    "        for j in range(n-i):\n",
    "            if array[i+j] < array[min_index]:\n",
    "                min_index = i+j\n",
    "        array[i], array[min_index] = array[min_index], array[i]\n",
    "            \n",
    "    return array\n",
    "\n",
    "\n",
    "selection_sort(input)\n",
    "print(input) # [1, 2, 4, 6, 9] 가 되어야 합니다!"
   ]
  },
  {
   "cell_type": "code",
   "execution_count": 2,
   "metadata": {},
   "outputs": [
    {
     "name": "stdout",
     "output_type": "stream",
     "text": [
      "0\n",
      "1\n",
      "2\n",
      "3\n",
      "4\n",
      "1\n",
      "2\n",
      "3\n",
      "4\n",
      "2\n",
      "3\n",
      "4\n",
      "3\n",
      "4\n"
     ]
    }
   ],
   "source": [
    "for i in range(5-1):\n",
    "    for j in range(5-i):\n",
    "        print(j+i)"
   ]
  },
  {
   "cell_type": "markdown",
   "metadata": {},
   "source": [
    "### 삽입정렬"
   ]
  },
  {
   "cell_type": "code",
   "execution_count": 11,
   "metadata": {},
   "outputs": [
    {
     "name": "stdout",
     "output_type": "stream",
     "text": [
      "[1, 2, 4, 6, 9]\n"
     ]
    }
   ],
   "source": [
    "input = [4, 6, 2, 9, 1]\n",
    "\n",
    "\n",
    "def insertion_sort(array):\n",
    "    n = len(array)\n",
    "    for i in range(1,n):\n",
    "        for j in range(i):\n",
    "            if array[i-j-1] > array[i-j]:\n",
    "                array[i-j-1], array[i-j] = array[i-j], array[i-j-1]\n",
    "            else:\n",
    "                break\n",
    "    return array\n",
    "\n",
    "\n",
    "insertion_sort(input)\n",
    "print(input) # [1, 2, 4, 6, 9] 가 되어야 합니다!"
   ]
  },
  {
   "cell_type": "code",
   "execution_count": 9,
   "metadata": {},
   "outputs": [
    {
     "name": "stdout",
     "output_type": "stream",
     "text": [
      "1\n",
      "2\n",
      "1\n",
      "3\n",
      "2\n",
      "1\n",
      "4\n",
      "3\n",
      "2\n",
      "1\n"
     ]
    }
   ],
   "source": [
    "for i in range(1,5):\n",
    "    for j in range(i):\n",
    "        print(i-j)"
   ]
  },
  {
   "cell_type": "markdown",
   "metadata": {},
   "source": [
    "### 병합정렬 - merge"
   ]
  },
  {
   "cell_type": "code",
   "execution_count": 24,
   "metadata": {},
   "outputs": [
    {
     "name": "stdout",
     "output_type": "stream",
     "text": [
      "[1, 2, 3, 4, 5, 6, 7, 8]\n"
     ]
    }
   ],
   "source": [
    "array_a = [1, 2, 3, 5]\n",
    "array_b = [4, 6, 7, 8]\n",
    "\n",
    "\n",
    "def merge(array1, array2):\n",
    "    idx1 = 0\n",
    "    idx2 = 0\n",
    "    array3 = []\n",
    "    while idx1 < len(array1) and idx2 < len(array2):\n",
    "        if array1[idx1] < array2[idx2]:\n",
    "            array3.append(array1[idx1])\n",
    "            idx1 += 1\n",
    "        else:\n",
    "            array3.append(array2[idx2])\n",
    "            idx2 += 1\n",
    "    if idx1 == len(array1):\n",
    "        while idx2 < len(array2):\n",
    "            array3.append(array2[idx2])\n",
    "            idx2 += 1\n",
    "    if idx2 == len(array2):\n",
    "        while idx1 < len(array1):\n",
    "            array3.append(array1[idx1])\n",
    "            idx1 += 1\n",
    "        \n",
    "    return array3\n",
    "\n",
    "\n",
    "print(merge(array_a, array_b))  # [1, 2, 3, 4, 5, 6, 7, 8] 가 되어야 합니다!"
   ]
  },
  {
   "cell_type": "markdown",
   "metadata": {},
   "source": [
    "### 병합정렬 - mergeSort"
   ]
  },
  {
   "cell_type": "code",
   "execution_count": 31,
   "metadata": {},
   "outputs": [
    {
     "name": "stdout",
     "output_type": "stream",
     "text": [
      "[5, 3, 2, 1, 6, 8, 7, 4]\n",
      "left_array: [5, 3, 2, 1]\n",
      "right_array: [6, 8, 7, 4]\n",
      "[5, 3, 2, 1]\n",
      "left_array: [5, 3]\n",
      "right_array: [2, 1]\n",
      "[5, 3]\n",
      "left_array: [5]\n",
      "right_array: [3]\n",
      "[2, 1]\n",
      "left_array: [2]\n",
      "right_array: [1]\n",
      "[6, 8, 7, 4]\n",
      "left_array: [6, 8]\n",
      "right_array: [7, 4]\n",
      "[6, 8]\n",
      "left_array: [6]\n",
      "right_array: [8]\n",
      "[7, 4]\n",
      "left_array: [7]\n",
      "right_array: [4]\n",
      "[1, 2, 3, 4, 5, 6, 7, 8]\n"
     ]
    }
   ],
   "source": [
    "array = [5, 3, 2, 1, 6, 8, 7, 4]\n",
    "\n",
    "\n",
    "def merge_sort(array):\n",
    "    if len(array) <= 1:\n",
    "        return array\n",
    "    mid = (0 + len(array)) // 2\n",
    "    left_array = array[:mid]\n",
    "    right_array = array[mid:]\n",
    "    print(array)\n",
    "    print('left_array:',left_array)\n",
    "    print('right_array:',right_array)\n",
    "    return merge(merge_sort(left_array), merge_sort(right_array))\n",
    "\n",
    "\n",
    "def merge(array1, array2):\n",
    "    result = []\n",
    "    array1_index = 0\n",
    "    array2_index = 0\n",
    "    while array1_index < len(array1) and array2_index < len(array2):\n",
    "        if array1[array1_index] < array2[array2_index]:\n",
    "            result.append(array1[array1_index])\n",
    "            array1_index += 1\n",
    "        else:\n",
    "            result.append(array2[array2_index])\n",
    "            array2_index += 1\n",
    "\n",
    "    if array1_index == len(array1):\n",
    "        while array2_index < len(array2):\n",
    "            result.append(array2[array2_index])\n",
    "            array2_index += 1\n",
    "\n",
    "    if array2_index == len(array2):\n",
    "        while array1_index < len(array1):\n",
    "            result.append(array1[array1_index])\n",
    "            array1_index += 1\n",
    "\n",
    "    return result\n",
    "\n",
    "\n",
    "print(merge_sort(array))  # [1, 2, 3, 4, 5, 6, 7, 8] 가 되어야 합니다!\n"
   ]
  },
  {
   "cell_type": "code",
   "execution_count": 32,
   "metadata": {},
   "outputs": [
    {
     "name": "stdout",
     "output_type": "stream",
     "text": [
      "[5, 3]\n",
      "left_array: [5]\n",
      "right_array: [3]\n",
      "[2, 1]\n",
      "left_array: [2]\n",
      "right_array: [1]\n",
      "[5, 3, 2, 1]\n",
      "left_array: [3, 5]\n",
      "right_array: [1, 2]\n",
      "[6, 8]\n",
      "left_array: [6]\n",
      "right_array: [8]\n",
      "[7, 4]\n",
      "left_array: [7]\n",
      "right_array: [4]\n",
      "[6, 8, 7, 4]\n",
      "left_array: [6, 8]\n",
      "right_array: [4, 7]\n",
      "[5, 3, 2, 1, 6, 8, 7, 4]\n",
      "left_array: [1, 2, 3, 5]\n",
      "right_array: [4, 6, 7, 8]\n",
      "[1, 2, 3, 4, 5, 6, 7, 8]\n"
     ]
    }
   ],
   "source": [
    "array = [5, 3, 2, 1, 6, 8, 7, 4]\n",
    "\n",
    "\n",
    "def merge_sort(array):\n",
    "    if len(array) <= 1:\n",
    "        return array\n",
    "    mid = (0 + len(array)) // 2\n",
    "    left_array = merge_sort(array[:mid])\n",
    "    right_array = merge_sort(array[mid:])\n",
    "    print(array)\n",
    "    print('left_array:',left_array)\n",
    "    print('right_array:',right_array)\n",
    "    return merge(left_array, right_array)\n",
    "\n",
    "\n",
    "def merge(array1, array2):\n",
    "    result = []\n",
    "    array1_index = 0\n",
    "    array2_index = 0\n",
    "    while array1_index < len(array1) and array2_index < len(array2):\n",
    "        if array1[array1_index] < array2[array2_index]:\n",
    "            result.append(array1[array1_index])\n",
    "            array1_index += 1\n",
    "        else:\n",
    "            result.append(array2[array2_index])\n",
    "            array2_index += 1\n",
    "\n",
    "    if array1_index == len(array1):\n",
    "        while array2_index < len(array2):\n",
    "            result.append(array2[array2_index])\n",
    "            array2_index += 1\n",
    "\n",
    "    if array2_index == len(array2):\n",
    "        while array1_index < len(array1):\n",
    "            result.append(array1[array1_index])\n",
    "            array1_index += 1\n",
    "\n",
    "    return result\n",
    "\n",
    "\n",
    "print(merge_sort(array))  # [1, 2, 3, 4, 5, 6, 7, 8] 가 되어야 합니다!"
   ]
  },
  {
   "cell_type": "code",
   "execution_count": null,
   "metadata": {},
   "outputs": [],
   "source": []
  }
 ],
 "metadata": {
  "kernelspec": {
   "display_name": "Python 3",
   "language": "python",
   "name": "python3"
  },
  "language_info": {
   "codemirror_mode": {
    "name": "ipython",
    "version": 3
   },
   "file_extension": ".py",
   "mimetype": "text/x-python",
   "name": "python",
   "nbconvert_exporter": "python",
   "pygments_lexer": "ipython3",
   "version": "3.8.3"
  }
 },
 "nbformat": 4,
 "nbformat_minor": 4
}
