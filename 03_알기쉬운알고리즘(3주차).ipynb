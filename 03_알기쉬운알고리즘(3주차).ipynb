{
 "cells": [
  {
   "cell_type": "markdown",
   "metadata": {},
   "source": [
    "### 버블정렬"
   ]
  },
  {
   "cell_type": "code",
   "execution_count": 15,
   "metadata": {},
   "outputs": [
    {
     "name": "stdout",
     "output_type": "stream",
     "text": [
      "[1, 2, 4, 6, 9]\n"
     ]
    }
   ],
   "source": [
    "input = [4, 6, 2, 9, 1]\n",
    "\n",
    "\n",
    "def bubble_sort(array):\n",
    "    n = len(array)\n",
    "    for i in range(n-1):\n",
    "        for j in range(n-i-1):\n",
    "            if array[j] > array[j+1]:\n",
    "                array[j], array[j+1] = array[j+1], array[j]\n",
    "    return array\n",
    "\n",
    "\n",
    "bubble_sort(input)\n",
    "print(input)  # [1, 2, 4, 6, 9] 가 되어야 합니다!"
   ]
  },
  {
   "cell_type": "code",
   "execution_count": 12,
   "metadata": {},
   "outputs": [
    {
     "name": "stdout",
     "output_type": "stream",
     "text": [
      "0\n",
      "1\n",
      "2\n",
      "3\n",
      "0\n",
      "1\n",
      "2\n",
      "0\n",
      "1\n",
      "0\n"
     ]
    }
   ],
   "source": [
    "for i in range(5 - 1):\n",
    "    for j in range(5-i-1):\n",
    "        print(j)"
   ]
  },
  {
   "cell_type": "markdown",
   "metadata": {},
   "source": [
    "### 선택정렬"
   ]
  },
  {
   "cell_type": "code",
   "execution_count": 4,
   "metadata": {},
   "outputs": [
    {
     "name": "stdout",
     "output_type": "stream",
     "text": [
      "[1, 2, 4, 6, 9]\n"
     ]
    }
   ],
   "source": [
    "input = [4, 6, 2, 9, 1]\n",
    "\n",
    "\n",
    "def selection_sort(array):\n",
    "    n = len(array)\n",
    "    for i in range(n-1):\n",
    "        min_index = i\n",
    "        for j in range(n-i):\n",
    "            if array[i+j] < array[min_index]:\n",
    "                min_index = i+j\n",
    "        array[i], array[min_index] = array[min_index], array[i]\n",
    "            \n",
    "    return array\n",
    "\n",
    "\n",
    "selection_sort(input)\n",
    "print(input) # [1, 2, 4, 6, 9] 가 되어야 합니다!"
   ]
  },
  {
   "cell_type": "code",
   "execution_count": 2,
   "metadata": {},
   "outputs": [
    {
     "name": "stdout",
     "output_type": "stream",
     "text": [
      "0\n",
      "1\n",
      "2\n",
      "3\n",
      "4\n",
      "1\n",
      "2\n",
      "3\n",
      "4\n",
      "2\n",
      "3\n",
      "4\n",
      "3\n",
      "4\n"
     ]
    }
   ],
   "source": [
    "for i in range(5-1):\n",
    "    for j in range(5-i):\n",
    "        print(j+i)"
   ]
  },
  {
   "cell_type": "markdown",
   "metadata": {},
   "source": [
    "### 삽입정렬"
   ]
  },
  {
   "cell_type": "code",
   "execution_count": 11,
   "metadata": {},
   "outputs": [
    {
     "name": "stdout",
     "output_type": "stream",
     "text": [
      "[1, 2, 4, 6, 9]\n"
     ]
    }
   ],
   "source": [
    "input = [4, 6, 2, 9, 1]\n",
    "\n",
    "\n",
    "def insertion_sort(array):\n",
    "    n = len(array)\n",
    "    for i in range(1,n):\n",
    "        for j in range(i):\n",
    "            if array[i-j-1] > array[i-j]:\n",
    "                array[i-j-1], array[i-j] = array[i-j], array[i-j-1]\n",
    "            else:\n",
    "                break\n",
    "    return array\n",
    "\n",
    "\n",
    "insertion_sort(input)\n",
    "print(input) # [1, 2, 4, 6, 9] 가 되어야 합니다!"
   ]
  },
  {
   "cell_type": "code",
   "execution_count": 9,
   "metadata": {},
   "outputs": [
    {
     "name": "stdout",
     "output_type": "stream",
     "text": [
      "1\n",
      "2\n",
      "1\n",
      "3\n",
      "2\n",
      "1\n",
      "4\n",
      "3\n",
      "2\n",
      "1\n"
     ]
    }
   ],
   "source": [
    "for i in range(1,5):\n",
    "    for j in range(i):\n",
    "        print(i-j)"
   ]
  },
  {
   "cell_type": "markdown",
   "metadata": {},
   "source": [
    "### 병합정렬 - merge"
   ]
  },
  {
   "cell_type": "code",
   "execution_count": 24,
   "metadata": {},
   "outputs": [
    {
     "name": "stdout",
     "output_type": "stream",
     "text": [
      "[1, 2, 3, 4, 5, 6, 7, 8]\n"
     ]
    }
   ],
   "source": [
    "array_a = [1, 2, 3, 5]\n",
    "array_b = [4, 6, 7, 8]\n",
    "\n",
    "\n",
    "def merge(array1, array2):\n",
    "    idx1 = 0\n",
    "    idx2 = 0\n",
    "    array3 = []\n",
    "    while idx1 < len(array1) and idx2 < len(array2):\n",
    "        if array1[idx1] < array2[idx2]:\n",
    "            array3.append(array1[idx1])\n",
    "            idx1 += 1\n",
    "        else:\n",
    "            array3.append(array2[idx2])\n",
    "            idx2 += 1\n",
    "    if idx1 == len(array1):\n",
    "        while idx2 < len(array2):\n",
    "            array3.append(array2[idx2])\n",
    "            idx2 += 1\n",
    "    if idx2 == len(array2):\n",
    "        while idx1 < len(array1):\n",
    "            array3.append(array1[idx1])\n",
    "            idx1 += 1\n",
    "        \n",
    "    return array3\n",
    "\n",
    "\n",
    "print(merge(array_a, array_b))  # [1, 2, 3, 4, 5, 6, 7, 8] 가 되어야 합니다!"
   ]
  },
  {
   "cell_type": "markdown",
   "metadata": {},
   "source": [
    "### 병합정렬 - mergeSort"
   ]
  },
  {
   "cell_type": "code",
   "execution_count": 31,
   "metadata": {},
   "outputs": [
    {
     "name": "stdout",
     "output_type": "stream",
     "text": [
      "[5, 3, 2, 1, 6, 8, 7, 4]\n",
      "left_array: [5, 3, 2, 1]\n",
      "right_array: [6, 8, 7, 4]\n",
      "[5, 3, 2, 1]\n",
      "left_array: [5, 3]\n",
      "right_array: [2, 1]\n",
      "[5, 3]\n",
      "left_array: [5]\n",
      "right_array: [3]\n",
      "[2, 1]\n",
      "left_array: [2]\n",
      "right_array: [1]\n",
      "[6, 8, 7, 4]\n",
      "left_array: [6, 8]\n",
      "right_array: [7, 4]\n",
      "[6, 8]\n",
      "left_array: [6]\n",
      "right_array: [8]\n",
      "[7, 4]\n",
      "left_array: [7]\n",
      "right_array: [4]\n",
      "[1, 2, 3, 4, 5, 6, 7, 8]\n"
     ]
    }
   ],
   "source": [
    "array = [5, 3, 2, 1, 6, 8, 7, 4]\n",
    "\n",
    "\n",
    "def merge_sort(array):\n",
    "    if len(array) <= 1:\n",
    "        return array\n",
    "    mid = (0 + len(array)) // 2\n",
    "    left_array = array[:mid]\n",
    "    right_array = array[mid:]\n",
    "    print(array)\n",
    "    print('left_array:',left_array)\n",
    "    print('right_array:',right_array)\n",
    "    return merge(merge_sort(left_array), merge_sort(right_array))\n",
    "\n",
    "\n",
    "def merge(array1, array2):\n",
    "    result = []\n",
    "    array1_index = 0\n",
    "    array2_index = 0\n",
    "    while array1_index < len(array1) and array2_index < len(array2):\n",
    "        if array1[array1_index] < array2[array2_index]:\n",
    "            result.append(array1[array1_index])\n",
    "            array1_index += 1\n",
    "        else:\n",
    "            result.append(array2[array2_index])\n",
    "            array2_index += 1\n",
    "\n",
    "    if array1_index == len(array1):\n",
    "        while array2_index < len(array2):\n",
    "            result.append(array2[array2_index])\n",
    "            array2_index += 1\n",
    "\n",
    "    if array2_index == len(array2):\n",
    "        while array1_index < len(array1):\n",
    "            result.append(array1[array1_index])\n",
    "            array1_index += 1\n",
    "\n",
    "    return result\n",
    "\n",
    "\n",
    "print(merge_sort(array))  # [1, 2, 3, 4, 5, 6, 7, 8] 가 되어야 합니다!\n"
   ]
  },
  {
   "cell_type": "code",
   "execution_count": 32,
   "metadata": {},
   "outputs": [
    {
     "name": "stdout",
     "output_type": "stream",
     "text": [
      "[5, 3]\n",
      "left_array: [5]\n",
      "right_array: [3]\n",
      "[2, 1]\n",
      "left_array: [2]\n",
      "right_array: [1]\n",
      "[5, 3, 2, 1]\n",
      "left_array: [3, 5]\n",
      "right_array: [1, 2]\n",
      "[6, 8]\n",
      "left_array: [6]\n",
      "right_array: [8]\n",
      "[7, 4]\n",
      "left_array: [7]\n",
      "right_array: [4]\n",
      "[6, 8, 7, 4]\n",
      "left_array: [6, 8]\n",
      "right_array: [4, 7]\n",
      "[5, 3, 2, 1, 6, 8, 7, 4]\n",
      "left_array: [1, 2, 3, 5]\n",
      "right_array: [4, 6, 7, 8]\n",
      "[1, 2, 3, 4, 5, 6, 7, 8]\n"
     ]
    }
   ],
   "source": [
    "array = [5, 3, 2, 1, 6, 8, 7, 4]\n",
    "\n",
    "\n",
    "def merge_sort(array):\n",
    "    if len(array) <= 1:\n",
    "        return array\n",
    "    mid = (0 + len(array)) // 2\n",
    "    left_array = merge_sort(array[:mid])\n",
    "    right_array = merge_sort(array[mid:])\n",
    "    print(array)\n",
    "    print('left_array:',left_array)\n",
    "    print('right_array:',right_array)\n",
    "    return merge(left_array, right_array)\n",
    "\n",
    "\n",
    "def merge(array1, array2):\n",
    "    result = []\n",
    "    array1_index = 0\n",
    "    array2_index = 0\n",
    "    while array1_index < len(array1) and array2_index < len(array2):\n",
    "        if array1[array1_index] < array2[array2_index]:\n",
    "            result.append(array1[array1_index])\n",
    "            array1_index += 1\n",
    "        else:\n",
    "            result.append(array2[array2_index])\n",
    "            array2_index += 1\n",
    "\n",
    "    if array1_index == len(array1):\n",
    "        while array2_index < len(array2):\n",
    "            result.append(array2[array2_index])\n",
    "            array2_index += 1\n",
    "\n",
    "    if array2_index == len(array2):\n",
    "        while array1_index < len(array1):\n",
    "            result.append(array1[array1_index])\n",
    "            array1_index += 1\n",
    "\n",
    "    return result\n",
    "\n",
    "\n",
    "print(merge_sort(array))  # [1, 2, 3, 4, 5, 6, 7, 8] 가 되어야 합니다!"
   ]
  },
  {
   "cell_type": "markdown",
   "metadata": {},
   "source": [
    "### 스택 - 탑"
   ]
  },
  {
   "cell_type": "code",
   "execution_count": 5,
   "metadata": {},
   "outputs": [
    {
     "name": "stdout",
     "output_type": "stream",
     "text": [
      "[0, 0, 2, 2, 4]\n"
     ]
    }
   ],
   "source": [
    "top_heights = [6, 9, 5, 7, 4]\n",
    "\n",
    "\n",
    "def get_receiver_top_orders(heights):\n",
    "    result = [0] * len(heights)\n",
    "    while heights:\n",
    "        height = heights.pop()\n",
    "        for idx in range(len(heights)-1, -1, -1):\n",
    "            if heights[idx] > height:\n",
    "                result[len(heights)] = idx + 1\n",
    "                break\n",
    "    return result\n",
    "\n",
    "\n",
    "print(get_receiver_top_orders(top_heights))  # [0, 0, 2, 2, 4] 가 반환되어야 한다!"
   ]
  },
  {
   "cell_type": "code",
   "execution_count": 3,
   "metadata": {},
   "outputs": [
    {
     "name": "stdout",
     "output_type": "stream",
     "text": [
      "4\n",
      "3\n",
      "2\n",
      "1\n",
      "0\n"
     ]
    }
   ],
   "source": [
    "for i in range(4,-1,-1):\n",
    "    print(i)"
   ]
  },
  {
   "cell_type": "markdown",
   "metadata": {},
   "source": [
    "### 큐"
   ]
  },
  {
   "cell_type": "code",
   "execution_count": 7,
   "metadata": {},
   "outputs": [],
   "source": [
    "class Node:\n",
    "    def __init__(self, data):\n",
    "        self.data = data\n",
    "        self.next = None\n",
    "\n",
    "\n",
    "class Queue:\n",
    "    def __init__(self):\n",
    "        self.head = None\n",
    "        self.tail = None\n",
    "\n",
    "    def enqueue(self, value):\n",
    "        new_node = Node(value)\n",
    "        if self.is_empty():\n",
    "            self.head = new_node\n",
    "            self.tail = new_node\n",
    "            return\n",
    "        \n",
    "        self.tail.next = new_node\n",
    "        self.tail = new_node\n",
    "        \n",
    "\n",
    "    def dequeue(self):\n",
    "        if self.is_empty():\n",
    "            return 'Queue is empty'\n",
    "        delete_head = self.head\n",
    "        self.head = self.head.next\n",
    "        return delete_head.data\n",
    "\n",
    "    def peek(self):\n",
    "        if self.is_empty():\n",
    "            return \"Queue is empty\"\n",
    "        \n",
    "        return self.head.data\n",
    "\n",
    "    def is_empty(self):\n",
    "        return self.list.head is None"
   ]
  },
  {
   "cell_type": "markdown",
   "metadata": {},
   "source": [
    "### 딕셔너리"
   ]
  },
  {
   "cell_type": "code",
   "execution_count": 8,
   "metadata": {},
   "outputs": [
    {
     "name": "stdout",
     "output_type": "stream",
     "text": [
      "3\n"
     ]
    }
   ],
   "source": [
    "class Dict:\n",
    "    def __init__(self):\n",
    "        self.items = [None] * 8\n",
    "\n",
    "    def put(self, key, value):\n",
    "        index = hash(key) % len(self.items)\n",
    "        self.items[index] = value\n",
    "\n",
    "    def get(self, key):\n",
    "        index = hash(key) % len(self.items)\n",
    "        return self.items[index]\n",
    "\n",
    "\n",
    "my_dict = Dict()\n",
    "my_dict.put(\"test\", 3)\n",
    "print(my_dict.get(\"test\"))  # 3이 반환되어야 합니다!"
   ]
  },
  {
   "cell_type": "markdown",
   "metadata": {},
   "source": [
    "### 충돌"
   ]
  },
  {
   "cell_type": "code",
   "execution_count": 9,
   "metadata": {},
   "outputs": [],
   "source": [
    "class LinkedTuple:\n",
    "    def __init__(self):\n",
    "        self.items = []\n",
    "\n",
    "    def add(self, key, value):\n",
    "        self.items.append((key, value))\n",
    "\n",
    "    def get(self, key):\n",
    "        for k, v in self.items:\n",
    "            if k == key:\n",
    "                return v"
   ]
  },
  {
   "cell_type": "code",
   "execution_count": 10,
   "metadata": {},
   "outputs": [],
   "source": [
    "class LinkedDict:\n",
    "    def __init__(self):\n",
    "        self.items = []\n",
    "        for i in range(8):\n",
    "            self.items.append(LinkedTuple())\n",
    "\n",
    "    def put(self, key, value):\n",
    "        index = hash(key) % len(self.items)\n",
    "        self.items[index].add(key, value)\n",
    "\n",
    "    def get(self, key):\n",
    "        index = hash(key) % len(self.items)\n",
    "        return self.items[index].get(key)"
   ]
  },
  {
   "cell_type": "markdown",
   "metadata": {},
   "source": [
    "### 출석체크"
   ]
  },
  {
   "cell_type": "code",
   "execution_count": 14,
   "metadata": {},
   "outputs": [
    {
     "name": "stdout",
     "output_type": "stream",
     "text": [
      "지효\n"
     ]
    }
   ],
   "source": [
    "all_students = [\"나연\", \"정연\", \"모모\", \"사나\", \"지효\", \"미나\", \"다현\", \"채영\", \"쯔위\"]\n",
    "present_students = [\"정연\", \"모모\", \"채영\", \"쯔위\", \"사나\", \"나연\", \"미나\", \"다현\"]\n",
    "\n",
    "\n",
    "def get_absent_student(all_array, present_array):\n",
    "    student_dict = {}\n",
    "    for key in all_array:\n",
    "        student_dict[key] = True\n",
    "    \n",
    "    for key in present_array:\n",
    "        del student_dict[key]\n",
    "    \n",
    "    for key in student_dict.keys():\n",
    "        return key\n",
    "    return\n",
    "\n",
    "\n",
    "print(get_absent_student(all_students, present_students))"
   ]
  },
  {
   "cell_type": "markdown",
   "metadata": {},
   "source": [
    "### 쓱 최대로 할인 적용하기"
   ]
  },
  {
   "cell_type": "code",
   "execution_count": 27,
   "metadata": {},
   "outputs": [
    {
     "name": "stdout",
     "output_type": "stream",
     "text": [
      "926000.0\n"
     ]
    }
   ],
   "source": [
    "shop_prices = [30000, 2000, 1500000]\n",
    "user_coupons = [20, 40]\n",
    "\n",
    "\n",
    "def get_max_discounted_price(prices, coupons):\n",
    "    prices.sort(reverse=True)\n",
    "    coupons.sort(reverse=True)\n",
    "    max_sum = 0\n",
    "    price_index = 0\n",
    "    coupon_index = 0\n",
    "    \n",
    "    while price_index < len(prices) and coupon_index < len(coupons):\n",
    "        max_sum += prices[price_index] * ((100-coupons[coupon_index])/100)\n",
    "        price_index += 1\n",
    "        coupon_index += 1\n",
    "        \n",
    "    while price_index < len(prices):\n",
    "        max_sum += prices[price_index]\n",
    "        price_index += 1\n",
    "        \n",
    "    return max_sum\n",
    "result = get_max_discounted_price(shop_prices, user_coupons)\n",
    "print(result)"
   ]
  },
  {
   "cell_type": "code",
   "execution_count": 18,
   "metadata": {},
   "outputs": [
    {
     "name": "stdout",
     "output_type": "stream",
     "text": [
      "[1500000, 30000, 2000]\n"
     ]
    }
   ],
   "source": [
    "shop_prices.sort(reverse=True)\n",
    "print(shop_prices)"
   ]
  },
  {
   "cell_type": "code",
   "execution_count": 23,
   "metadata": {},
   "outputs": [
    {
     "name": "stdout",
     "output_type": "stream",
     "text": [
      "[20, 40]\n"
     ]
    }
   ],
   "source": [
    "user_coupons.sort()\n",
    "print(user_coupons)"
   ]
  },
  {
   "cell_type": "markdown",
   "metadata": {},
   "source": [
    "### 올바른 괄호"
   ]
  },
  {
   "cell_type": "code",
   "execution_count": 32,
   "metadata": {},
   "outputs": [
    {
     "name": "stdout",
     "output_type": "stream",
     "text": [
      "False\n"
     ]
    }
   ],
   "source": [
    "value = \"()())\"\n",
    "def is_correct_parenthesis(string):\n",
    "    right_correct = []\n",
    "    for i in range(len(string)):\n",
    "        if string[i] == \"(\":\n",
    "            right_correct.append(string[i])\n",
    "        elif string[i] == \")\":\n",
    "            if len(right_correct) == 0:\n",
    "                return False\n",
    "            right_correct.pop()\n",
    "            \n",
    "    if len(right_correct) == 0:\n",
    "        return True\n",
    "    else:\n",
    "        return False\n",
    "result = is_correct_parenthesis(value)\n",
    "print(result)"
   ]
  },
  {
   "cell_type": "markdown",
   "metadata": {},
   "source": [
    "### 멜론 베스트 앨범 뽑기"
   ]
  },
  {
   "cell_type": "code",
   "execution_count": null,
   "metadata": {},
   "outputs": [],
   "source": [
    "genres = [\"classic\", \"pop\", \"classic\", \"classic\", \"pop\"]\n",
    "plays = [500, 600, 150, 800, 2500]\n",
    "\n",
    "def get_melon_best_album(genre_array, play_array):\n",
    "    \n",
    "    return []\n",
    "\n",
    "result = get_melon_best_album(genres, plays)\n",
    "print(result)"
   ]
  }
 ],
 "metadata": {
  "kernelspec": {
   "display_name": "Python 3",
   "language": "python",
   "name": "python3"
  },
  "language_info": {
   "codemirror_mode": {
    "name": "ipython",
    "version": 3
   },
   "file_extension": ".py",
   "mimetype": "text/x-python",
   "name": "python",
   "nbconvert_exporter": "python",
   "pygments_lexer": "ipython3",
   "version": "3.8.3"
  }
 },
 "nbformat": 4,
 "nbformat_minor": 4
}
