{
 "cells": [
  {
   "cell_type": "markdown",
   "metadata": {},
   "source": [
    "### 맥스 힙에 원소 추가"
   ]
  },
  {
   "cell_type": "code",
   "execution_count": 2,
   "metadata": {},
   "outputs": [
    {
     "name": "stdout",
     "output_type": "stream",
     "text": [
      "[None, 9, 4, 2, 3]\n"
     ]
    }
   ],
   "source": [
    "class MaxHeap:\n",
    "    def __init__(self):\n",
    "        self.items = [None]\n",
    "\n",
    "    def insert(self, value):\n",
    "        self.items.append(value)\n",
    "        cur_index = len(self.items) -1\n",
    "        \n",
    "        while cur_index > 1:\n",
    "            parent_index = cur_index // 2\n",
    "            if self.items[parent_index] < self.items[cur_index]:\n",
    "                self.items[parent_index], self.items[cur_index] = self.items[cur_index], self.items[parent_index]\n",
    "                cur_index = parent_index\n",
    "            else:\n",
    "                break\n",
    "        return self.items\n",
    "\n",
    "max_heap = MaxHeap()\n",
    "max_heap.insert(3)\n",
    "max_heap.insert(4)\n",
    "max_heap.insert(2)\n",
    "max_heap.insert(9)\n",
    "print(max_heap.items)  # [None, 9, 4, 2, 3] 가 출력되어야 합니다!"
   ]
  },
  {
   "cell_type": "markdown",
   "metadata": {},
   "source": [
    "### 맥스 힙에 원소 제거"
   ]
  },
  {
   "cell_type": "code",
   "execution_count": 10,
   "metadata": {},
   "outputs": [
    {
     "name": "stdout",
     "output_type": "stream",
     "text": [
      "[None, 8, 6, 7, 2, 5, 4]\n",
      "8\n",
      "[None, 7, 6, 4, 2, 5]\n"
     ]
    }
   ],
   "source": [
    "class MaxHeap:\n",
    "    def __init__(self):\n",
    "        self.items = [None]\n",
    "\n",
    "    def insert(self, value):\n",
    "        self.items.append(value)\n",
    "        cur_index = len(self.items) - 1\n",
    "\n",
    "        while cur_index > 1:  # cur_index 가 1이 되면 정상을 찍은거라 다른 것과 비교 안하셔도 됩니다!\n",
    "            parent_index = cur_index // 2\n",
    "            if self.items[parent_index] < self.items[cur_index]:\n",
    "                self.items[parent_index], self.items[cur_index] = self.items[cur_index], self.items[parent_index]\n",
    "                cur_index = parent_index\n",
    "            else:\n",
    "                break\n",
    "\n",
    "    def delete(self):\n",
    "        self.items[1], self.items[-1] = self.items[-1], self.items[1]\n",
    "        delete_node = self.items.pop()\n",
    "        parent_index = 1\n",
    "        \n",
    "        while parent_index < len(self.items):\n",
    "            cur_index1 = parent_index * 2\n",
    "            cur_index2 = parent_index * 2 + 1\n",
    "            max_index = parent_index\n",
    "            \n",
    "            if cur_index1 < len(self.items) and self.items[cur_index1] > self.items[max_index]:\n",
    "                max_index = cur_index1\n",
    "            \n",
    "            if cur_index2 < len(self.items) and self.items[cur_index2] > self.items[max_index]:\n",
    "                max_index = cur_index2\n",
    "                \n",
    "            if max_index == parent_index:\n",
    "                break\n",
    "            \n",
    "            self.items[parent_index], self.items[max_index] = self.items[max_index], self.items[parent_index]\n",
    "            return delete_node\n",
    "\n",
    "\n",
    "max_heap = MaxHeap()\n",
    "max_heap.insert(8)\n",
    "max_heap.insert(6)\n",
    "max_heap.insert(7)\n",
    "max_heap.insert(2)\n",
    "max_heap.insert(5)\n",
    "max_heap.insert(4)\n",
    "print(max_heap.items)  # [None, 8, 6, 7, 2, 5, 4]\n",
    "print(max_heap.delete())  # 8 을 반환해야 합니다!\n",
    "print(max_heap.items)  # [None, 7, 6, 4, 2, 5]"
   ]
  },
  {
   "cell_type": "code",
   "execution_count": 7,
   "metadata": {},
   "outputs": [
    {
     "name": "stdout",
     "output_type": "stream",
     "text": [
      "[None, 8, 6, 7, 2, 5, 4]\n"
     ]
    }
   ],
   "source": [
    "print(max_heap.items)"
   ]
  },
  {
   "cell_type": "code",
   "execution_count": null,
   "metadata": {},
   "outputs": [],
   "source": []
  }
 ],
 "metadata": {
  "kernelspec": {
   "display_name": "Python 3",
   "language": "python",
   "name": "python3"
  },
  "language_info": {
   "codemirror_mode": {
    "name": "ipython",
    "version": 3
   },
   "file_extension": ".py",
   "mimetype": "text/x-python",
   "name": "python",
   "nbconvert_exporter": "python",
   "pygments_lexer": "ipython3",
   "version": "3.8.3"
  }
 },
 "nbformat": 4,
 "nbformat_minor": 4
}
