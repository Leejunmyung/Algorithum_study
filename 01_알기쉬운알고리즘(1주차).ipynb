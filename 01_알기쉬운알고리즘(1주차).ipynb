{
 "cells": [
  {
   "cell_type": "markdown",
   "metadata": {},
   "source": [
    "### 최댓값 찾기"
   ]
  },
  {
   "cell_type": "code",
   "execution_count": 1,
   "metadata": {},
   "outputs": [
    {
     "name": "stdout",
     "output_type": "stream",
     "text": [
      "6\n"
     ]
    }
   ],
   "source": [
    "values = [3, 5, 6, 1, 2, 4]\n",
    "\n",
    "def find_max_num(array):\n",
    "    max_num = 0\n",
    "    for num in array:\n",
    "        if num > max_num:\n",
    "            max_num = num\n",
    "            \n",
    "    return max_num\n",
    "\n",
    "result = find_max_num(values)\n",
    "print(result)"
   ]
  },
  {
   "cell_type": "code",
   "execution_count": 7,
   "metadata": {},
   "outputs": [
    {
     "name": "stdout",
     "output_type": "stream",
     "text": [
      "6\n"
     ]
    }
   ],
   "source": [
    "values = [3, 5, 6, 1, 2, 4]\n",
    "\n",
    "def find_max_num(array):\n",
    "    for num in array:\n",
    "        for compare_num in array:\n",
    "            if num < compare_num:\n",
    "                break\n",
    "        else:\n",
    "            return num\n",
    "\n",
    "result = find_max_num(values)\n",
    "print(result)"
   ]
  },
  {
   "cell_type": "markdown",
   "metadata": {},
   "source": [
    "### 최빈값 찾기"
   ]
  },
  {
   "cell_type": "code",
   "execution_count": 25,
   "metadata": {},
   "outputs": [
    {
     "name": "stdout",
     "output_type": "stream",
     "text": [
      "e\n"
     ]
    }
   ],
   "source": [
    "values = \"hello my name is leejunmyung\"\n",
    "\n",
    "def find_max_occurred_alphabet(string):\n",
    "    alphabet_occurrence_array = [0] * 26\n",
    "    for char in string:\n",
    "        if not char.isalpha():\n",
    "            continue\n",
    "        alphabet_index = ord(char) - ord('a')\n",
    "        alphabet_occurrence_array[alphabet_index] += 1\n",
    "            \n",
    "    max_occurrence = 0\n",
    "    max_index = 0\n",
    "    for index in range(len(alphabet_occurrence_array)):\n",
    "        alpha_max = alphabet_occurrence_array[index]\n",
    "        if alpha_max > max_occurrence:\n",
    "            max_occurrence = alpha_max\n",
    "            max_index = index\n",
    "    return chr(max_index + ord('a'))\n",
    "\n",
    "\n",
    "result = find_max_occurred_alphabet(values)\n",
    "print(result)"
   ]
  },
  {
   "cell_type": "code",
   "execution_count": 26,
   "metadata": {},
   "outputs": [
    {
     "name": "stdout",
     "output_type": "stream",
     "text": [
      "e\n"
     ]
    }
   ],
   "source": [
    "values = \"hello my name is leejunmyung\"\n",
    "\n",
    "def find_max_occurred_alphabet(string):\n",
    "    alphabet_array = [\"a\", \"b\", \"c\", \"d\", \"e\", \"f\", \"g\", \"h\", \"i\", \"j\", \"k\", \"l\", \"m\", \"n\", \"o\", \"p\", \"q\", \"r\", \"s\",\n",
    "                      \"t\", \"u\", \"v\", \"x\", \"y\", \"z\"]\n",
    "    \n",
    "    max_occurrence = 0\n",
    "    max_alphabet = alphabet_array[0]\n",
    "    \n",
    "    for alphabet in alphabet_array:\n",
    "        occurrence = 0\n",
    "        for char in string:\n",
    "            if alphabet == char:\n",
    "                occurrence += 1\n",
    "                \n",
    "        if occurrence > max_occurrence:\n",
    "            max_alphabet = alphabet\n",
    "            max_occurrence = occurrence\n",
    "            \n",
    "    return max_alphabet\n",
    "\n",
    "result = find_max_occurred_alphabet(values)\n",
    "print(result)"
   ]
  },
  {
   "cell_type": "markdown",
   "metadata": {},
   "source": [
    "### 배열에서 특정 요소 찾기"
   ]
  },
  {
   "cell_type": "code",
   "execution_count": 28,
   "metadata": {},
   "outputs": [
    {
     "name": "stdout",
     "output_type": "stream",
     "text": [
      "False\n"
     ]
    }
   ],
   "source": [
    "values = [3, 5, 6, 1, 2, 4]\n",
    "\n",
    "def is_number_exist(number, array):\n",
    "    if number in array:\n",
    "        return True\n",
    "    else:\n",
    "        return False\n",
    "\n",
    "\n",
    "result = is_number_exist(7, values)\n",
    "print(result)"
   ]
  },
  {
   "cell_type": "code",
   "execution_count": 30,
   "metadata": {},
   "outputs": [
    {
     "name": "stdout",
     "output_type": "stream",
     "text": [
      "True\n"
     ]
    }
   ],
   "source": [
    "values = [3, 5, 6, 1, 2, 4]\n",
    "\n",
    "def is_number_exist(number, array):\n",
    "    for element in array:\n",
    "        if number == element:\n",
    "            return True\n",
    "        \n",
    "    return False\n",
    "\n",
    "\n",
    "result = is_number_exist(3, values)\n",
    "print(result)"
   ]
  },
  {
   "cell_type": "markdown",
   "metadata": {},
   "source": [
    "### 곱하기 or 더하기(최대값)"
   ]
  },
  {
   "cell_type": "code",
   "execution_count": 32,
   "metadata": {},
   "outputs": [
    {
     "name": "stdout",
     "output_type": "stream",
     "text": [
      "728\n"
     ]
    }
   ],
   "source": [
    "values = [0, 3, 5, 6, 1, 2, 4]\n",
    "\n",
    "def find_max_plus_or_multiply(array):\n",
    "    max_sum = 0\n",
    "    for num in array:\n",
    "        if num == 0 or num == 1 or max_sum == 0:\n",
    "            max_sum += num\n",
    "        else:\n",
    "            max_sum *= num\n",
    "    return max_sum\n",
    "\n",
    "result = find_max_plus_or_multiply(values)\n",
    "print(result)"
   ]
  },
  {
   "cell_type": "markdown",
   "metadata": {},
   "source": [
    "### 반복되지 않는 문자"
   ]
  },
  {
   "cell_type": "code",
   "execution_count": 36,
   "metadata": {},
   "outputs": [
    {
     "name": "stdout",
     "output_type": "stream",
     "text": [
      "d\n"
     ]
    }
   ],
   "source": [
    "values = \"abadabac\"\n",
    "\n",
    "def find_not_repeating_first_character(string):\n",
    "    alphabet_array = [0] * 26\n",
    "    for char in string:\n",
    "        if not char.isalpha():\n",
    "            continue\n",
    "        alphabet_index = ord(char) - ord('a')\n",
    "        alphabet_array[alphabet_index] += 1\n",
    "        \n",
    "    not_repeating = []\n",
    "    for index in range(len(alphabet_array)):\n",
    "        alphabet_occurrence = alphabet_array[index]\n",
    "        if alphabet_occurrence == 1:\n",
    "            not_repeating.append(chr(index + ord('a')))\n",
    "            \n",
    "    for char in string:\n",
    "        if char in not_repeating:\n",
    "            return  char\n",
    "\n",
    "\n",
    "result = find_not_repeating_first_character(values)\n",
    "print(result)"
   ]
  },
  {
   "cell_type": "code",
   "execution_count": null,
   "metadata": {},
   "outputs": [],
   "source": []
  }
 ],
 "metadata": {
  "kernelspec": {
   "display_name": "Python 3",
   "language": "python",
   "name": "python3"
  },
  "language_info": {
   "codemirror_mode": {
    "name": "ipython",
    "version": 3
   },
   "file_extension": ".py",
   "mimetype": "text/x-python",
   "name": "python",
   "nbconvert_exporter": "python",
   "pygments_lexer": "ipython3",
   "version": "3.8.3"
  }
 },
 "nbformat": 4,
 "nbformat_minor": 4
}
