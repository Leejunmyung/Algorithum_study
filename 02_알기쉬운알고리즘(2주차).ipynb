{
 "cells": [
  {
   "cell_type": "markdown",
   "metadata": {},
   "source": [
    "### 링크드 리스트 모든 원소 출력"
   ]
  },
  {
   "cell_type": "code",
   "execution_count": 9,
   "metadata": {},
   "outputs": [
    {
     "name": "stdout",
     "output_type": "stream",
     "text": [
      "5\n",
      "12\n"
     ]
    }
   ],
   "source": [
    "class Node:\n",
    "    def __init__(self, data):\n",
    "        self.data = data\n",
    "        self.next = None\n",
    "\n",
    "\n",
    "class LinkedList:\n",
    "    def __init__(self, value):\n",
    "        self.head = Node(value)\n",
    "\n",
    "    def append(self, value):\n",
    "        cur = self.head\n",
    "        while cur.next is not None:\n",
    "            cur = cur.next\n",
    "        cur.next = Node(value)\n",
    "\n",
    "    def print_all(self):\n",
    "        cur = self.head\n",
    "        while cur is not None:\n",
    "            print(cur.data)\n",
    "            cur = cur.next\n",
    "\n",
    "linked_list = LinkedList(5)\n",
    "linked_list.append(12)\n",
    "linked_list.print_all()"
   ]
  },
  {
   "cell_type": "markdown",
   "metadata": {},
   "source": [
    "### 링크드 리스트 원소 찾기"
   ]
  },
  {
   "cell_type": "code",
   "execution_count": 11,
   "metadata": {},
   "outputs": [
    {
     "data": {
      "text/plain": [
       "5"
      ]
     },
     "execution_count": 11,
     "metadata": {},
     "output_type": "execute_result"
    }
   ],
   "source": [
    "class Node:\n",
    "    def __init__(self, data):\n",
    "        self.data = data\n",
    "        self.next = None\n",
    "\n",
    "\n",
    "class LinkedList:\n",
    "    def __init__(self, value):\n",
    "        self.head = Node(value)\n",
    "\n",
    "    def append(self, value):\n",
    "        cur = self.head\n",
    "        while cur.next is not None:\n",
    "            cur = cur.next\n",
    "        cur.next = Node(value)\n",
    "\n",
    "    def print_all(self):\n",
    "        cur = self.head\n",
    "        while cur is not None:\n",
    "            print(cur.data)\n",
    "            cur = cur.next\n",
    "\n",
    "    def get_node(self, index):\n",
    "        cur = self.head\n",
    "        count = 0\n",
    "        while count < index:\n",
    "            cur = cur.next\n",
    "            count += 1\n",
    "        return cur.data\n",
    "\n",
    "linked_list = LinkedList(5)\n",
    "linked_list.append(12)\n",
    "linked_list.get_node(0) # -> 5를 들고 있는 노드를 반환해야 합니다!"
   ]
  },
  {
   "cell_type": "markdown",
   "metadata": {},
   "source": [
    "### 링크드 리스트 원소 추가"
   ]
  },
  {
   "cell_type": "code",
   "execution_count": 17,
   "metadata": {},
   "outputs": [
    {
     "name": "stdout",
     "output_type": "stream",
     "text": [
      "3\n",
      "5\n",
      "12\n"
     ]
    }
   ],
   "source": [
    "class Node:\n",
    "    def __init__(self, data):\n",
    "        self.data = data\n",
    "        self.next = None\n",
    "\n",
    "\n",
    "class LinkedList:\n",
    "    def __init__(self, value):\n",
    "        self.head = Node(value)\n",
    "\n",
    "    def append(self, value):\n",
    "        cur = self.head\n",
    "        while cur.next is not None:\n",
    "            cur = cur.next\n",
    "        cur.next = Node(value)\n",
    "\n",
    "    def print_all(self):\n",
    "        cur = self.head\n",
    "        while cur is not None:\n",
    "            print(cur.data)\n",
    "            cur = cur.next\n",
    "\n",
    "    def get_node(self, index):\n",
    "        node = self.head\n",
    "        count = 0\n",
    "        while count < index:\n",
    "            node = node.next\n",
    "            count += 1\n",
    "        return node\n",
    "\n",
    "    def add_node(self, index, value):\n",
    "        new_node = Node(value)\n",
    "        if index == 0:\n",
    "            new_node.next = self.head\n",
    "            self.head = new_node\n",
    "            return\n",
    "        node = self.get_node(index-1)\n",
    "        next_node = node.next\n",
    "        node.next = new_node\n",
    "        new_node.next = next_node\n",
    "        \n",
    "\n",
    "\n",
    "linked_list = LinkedList(5)\n",
    "linked_list.append(12)\n",
    "linked_list.add_node(0, 3)\n",
    "linked_list.print_all()"
   ]
  },
  {
   "cell_type": "markdown",
   "metadata": {},
   "source": [
    "### 링크드 리스트 원소 삭제"
   ]
  },
  {
   "cell_type": "code",
   "execution_count": 22,
   "metadata": {},
   "outputs": [
    {
     "name": "stdout",
     "output_type": "stream",
     "text": [
      "3\n",
      "12\n"
     ]
    }
   ],
   "source": [
    "class Node:\n",
    "    def __init__(self, data):\n",
    "        self.data = data\n",
    "        self.next = None\n",
    "\n",
    "\n",
    "class LinkedList:\n",
    "    def __init__(self, value):\n",
    "        self.head = Node(value)\n",
    "\n",
    "    def append(self, value):\n",
    "        cur = self.head\n",
    "        while cur.next is not None:\n",
    "            cur = cur.next\n",
    "        cur.next = Node(value)\n",
    "\n",
    "    def print_all(self):\n",
    "        cur = self.head\n",
    "        while cur is not None:\n",
    "            print(cur.data)\n",
    "            cur = cur.next\n",
    "\n",
    "    def get_node(self, index):\n",
    "        node = self.head\n",
    "        count = 0\n",
    "        while count < index:\n",
    "            node = node.next\n",
    "            count += 1\n",
    "        return node\n",
    "\n",
    "    def add_node(self, index, value):\n",
    "        new_node = Node(value)\n",
    "        if index == 0:\n",
    "            new_node.next = self.head\n",
    "            self.head = new_node\n",
    "            return\n",
    "\n",
    "        node = self.get_node(index - 1)\n",
    "        next_node = node.next\n",
    "        node.next = new_node\n",
    "        new_node.next = next_node\n",
    "\n",
    "    def delete_node(self, index):\n",
    "        if index == 0:\n",
    "            self.head = self.head.next\n",
    "            return\n",
    "        node = self.get_node(index-1)\n",
    "        next_node = node.next\n",
    "        node.next = next_node.next\n",
    "\n",
    "\n",
    "linked_list = LinkedList(5)\n",
    "linked_list.append(12)\n",
    "linked_list.add_node(0, 3)\n",
    "linked_list.delete_node(1)\n",
    "linked_list.print_all()"
   ]
  },
  {
   "cell_type": "markdown",
   "metadata": {},
   "source": [
    "### 두 링크드 리스트의 합 계산"
   ]
  },
  {
   "cell_type": "code",
   "execution_count": 26,
   "metadata": {},
   "outputs": [
    {
     "name": "stdout",
     "output_type": "stream",
     "text": [
      "1032\n"
     ]
    }
   ],
   "source": [
    "class Node:\n",
    "    def __init__(self, data):\n",
    "        self.data = data\n",
    "        self.next = None\n",
    "\n",
    "\n",
    "class LinkedList:\n",
    "    def __init__(self, value):\n",
    "        self.head = Node(value)\n",
    "\n",
    "    def append(self, value):\n",
    "        cur = self.head\n",
    "        while cur.next is not None:\n",
    "            cur = cur.next\n",
    "        cur.next = Node(value)\n",
    "\n",
    "\n",
    "def get_linked_list_sum(linked_list_1, linked_list_2):\n",
    "    sum_1 = 0\n",
    "    cur_1 = linked_list_1.head\n",
    "    while cur_1 is not None:\n",
    "        sum_1 = sum_1 * 10 + cur_1.data\n",
    "        cur_1 = cur_1.next\n",
    "        \n",
    "    sum_2 = 0\n",
    "    cur_2 = linked_list_2.head\n",
    "    while cur_2 is not None:\n",
    "        sum_2 = sum_2 * 10 + cur_2.data\n",
    "        cur_2 = cur_2.next\n",
    "    \n",
    "    return sum_1 + sum_2\n",
    "\n",
    "\n",
    "linked_list_1 = LinkedList(6)\n",
    "linked_list_1.append(7)\n",
    "linked_list_1.append(8)\n",
    "\n",
    "linked_list_2 = LinkedList(3)\n",
    "linked_list_2.append(5)\n",
    "linked_list_2.append(4)\n",
    "\n",
    "print(get_linked_list_sum(linked_list_1, linked_list_2))"
   ]
  },
  {
   "cell_type": "markdown",
   "metadata": {},
   "source": [
    "### 개선"
   ]
  },
  {
   "cell_type": "code",
   "execution_count": 29,
   "metadata": {},
   "outputs": [
    {
     "name": "stdout",
     "output_type": "stream",
     "text": [
      "1032\n"
     ]
    }
   ],
   "source": [
    "class Node:\n",
    "    def __init__(self, data):\n",
    "        self.data = data\n",
    "        self.next = None\n",
    "\n",
    "\n",
    "class LinkedList:\n",
    "    def __init__(self, value):\n",
    "        self.head = Node(value)\n",
    "\n",
    "    def append(self, value):\n",
    "        cur = self.head\n",
    "        while cur.next is not None:\n",
    "            cur = cur.next\n",
    "        cur.next = Node(value)\n",
    "        \n",
    "def get_linked_list_sum(linked_list_1, linked_list_2):\n",
    "    sum_1 = get_linked_list_sum2(linked_list_1)\n",
    "    sum_2 = get_linked_list_sum2(linked_list_2)\n",
    "    \n",
    "    return  sum_1 + sum_2\n",
    "\n",
    "def get_linked_list_sum2(linked_list):\n",
    "    sum = 0\n",
    "    cur = linked_list.head\n",
    "    while cur is not None:\n",
    "        sum = sum * 10 + cur.data\n",
    "        cur = cur.next\n",
    "        \n",
    "    return sum\n",
    "\n",
    "\n",
    "linked_list_1 = LinkedList(6)\n",
    "linked_list_1.append(7)\n",
    "linked_list_1.append(8)\n",
    "\n",
    "linked_list_2 = LinkedList(3)\n",
    "linked_list_2.append(5)\n",
    "linked_list_2.append(4)\n",
    "\n",
    "print(get_linked_list_sum(linked_list_1, linked_list_2))"
   ]
  },
  {
   "cell_type": "markdown",
   "metadata": {},
   "source": [
    "### 이진탐색"
   ]
  },
  {
   "cell_type": "code",
   "execution_count": 3,
   "metadata": {},
   "outputs": [
    {
     "name": "stdout",
     "output_type": "stream",
     "text": [
      "True\n"
     ]
    }
   ],
   "source": [
    "finding_target = 14\n",
    "finding_numbers = [1, 2, 3, 4, 5, 6, 7, 8, 9, 10, 11, 12, 13, 14, 15, 16]\n",
    "\n",
    "\n",
    "def is_existing_target_number_binary(target, array):\n",
    "    min_num = min(array)\n",
    "    max_num = max(array)\n",
    "    search_num = (max_num + min_num) // 2\n",
    "    \n",
    "    while min_num <= max_num:\n",
    "        if target == search_num:\n",
    "            return True\n",
    "        elif target < search_num:\n",
    "            max_num = search_num - 1\n",
    "        elif target > search_num:\n",
    "            min_num = search_num + 1\n",
    "        search_num = (max_num + min_num) // 2\n",
    "        \n",
    "    return False \n",
    "\n",
    "\n",
    "result = is_existing_target_number_binary(finding_target, finding_numbers)\n",
    "print(result)"
   ]
  },
  {
   "cell_type": "markdown",
   "metadata": {},
   "source": [
    "### 팩토리얼"
   ]
  },
  {
   "cell_type": "code",
   "execution_count": 4,
   "metadata": {},
   "outputs": [
    {
     "name": "stdout",
     "output_type": "stream",
     "text": [
      "120\n"
     ]
    }
   ],
   "source": [
    "def factorial(n):\n",
    "    if n == 1:\n",
    "        return 1\n",
    "    return n * factorial(n-1)\n",
    "\n",
    "\n",
    "print(factorial(5))"
   ]
  },
  {
   "cell_type": "markdown",
   "metadata": {},
   "source": [
    "### 회문검사 - 반복문"
   ]
  },
  {
   "cell_type": "code",
   "execution_count": 10,
   "metadata": {},
   "outputs": [
    {
     "name": "stdout",
     "output_type": "stream",
     "text": [
      "True\n"
     ]
    }
   ],
   "source": [
    "input = \"abcdcba\"\n",
    "\n",
    "\n",
    "def is_palindrome(string):\n",
    "    n = len(string)\n",
    "    for i in range(n):\n",
    "        if string[i] != string[n-i-1]:\n",
    "            return False\n",
    "    return True\n",
    "        \n",
    "\n",
    "\n",
    "print(is_palindrome(input))"
   ]
  },
  {
   "cell_type": "markdown",
   "metadata": {},
   "source": [
    "### 회문검사 - 제귀"
   ]
  },
  {
   "cell_type": "code",
   "execution_count": 24,
   "metadata": {},
   "outputs": [
    {
     "name": "stdout",
     "output_type": "stream",
     "text": [
      "True\n"
     ]
    }
   ],
   "source": [
    "input = \"abcdcba\"\n",
    "\n",
    "\n",
    "def is_palindrome(string):\n",
    "    if len(string) <= 1:\n",
    "        return True\n",
    "    elif string[0] != string[-1]:\n",
    "        return False\n",
    "    return is_palindrome(string[1:-1])\n",
    "\n",
    "\n",
    "print(is_palindrome(input))"
   ]
  },
  {
   "cell_type": "markdown",
   "metadata": {},
   "source": [
    "### 링크드 리스트 끝에서 k 번째 값 출력하기"
   ]
  },
  {
   "cell_type": "code",
   "execution_count": 44,
   "metadata": {},
   "outputs": [
    {
     "name": "stdout",
     "output_type": "stream",
     "text": [
      "7\n"
     ]
    }
   ],
   "source": [
    "class Node:\n",
    "    def __init__(self, data):\n",
    "        self.data = data\n",
    "        self.next = None\n",
    "\n",
    "\n",
    "class LinkedList:\n",
    "    def __init__(self, value):\n",
    "        self.head = Node(value)\n",
    "\n",
    "    def append(self, value):\n",
    "        cur = self.head\n",
    "        while cur.next is not None:\n",
    "            cur = cur.next\n",
    "        cur.next = Node(value)\n",
    "\n",
    "    def get_kth_node_from_last(self, k):\n",
    "        cur = self.head\n",
    "        count = 0\n",
    "        \n",
    "        while cur is not None:\n",
    "            cur = cur.next\n",
    "            count += 1\n",
    "            \n",
    "        cur = self.head\n",
    "        for i in range(count-k):\n",
    "            cur = cur.next\n",
    "        return cur\n",
    "\n",
    "\n",
    "linked_list = LinkedList(6)\n",
    "linked_list.append(7)\n",
    "linked_list.append(8)\n",
    "# print(linked_list.get_kth_node_from_last(2))\n",
    "\n",
    "print(linked_list.get_kth_node_from_last(2).data)  # 7이 나와야 합니다!"
   ]
  },
  {
   "cell_type": "code",
   "execution_count": null,
   "metadata": {},
   "outputs": [],
   "source": []
  }
 ],
 "metadata": {
  "kernelspec": {
   "display_name": "Python 3",
   "language": "python",
   "name": "python3"
  },
  "language_info": {
   "codemirror_mode": {
    "name": "ipython",
    "version": 3
   },
   "file_extension": ".py",
   "mimetype": "text/x-python",
   "name": "python",
   "nbconvert_exporter": "python",
   "pygments_lexer": "ipython3",
   "version": "3.8.3"
  }
 },
 "nbformat": 4,
 "nbformat_minor": 4
}
