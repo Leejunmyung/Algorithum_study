{
 "cells": [
  {
   "cell_type": "markdown",
   "metadata": {},
   "source": [
    "### 맥스 힙에 원소 추가"
   ]
  },
  {
   "cell_type": "code",
   "execution_count": 2,
   "metadata": {},
   "outputs": [
    {
     "name": "stdout",
     "output_type": "stream",
     "text": [
      "[None, 9, 4, 2, 3]\n"
     ]
    }
   ],
   "source": [
    "class MaxHeap:\n",
    "    def __init__(self):\n",
    "        self.items = [None]\n",
    "\n",
    "    def insert(self, value):\n",
    "        self.items.append(value)\n",
    "        cur_index = len(self.items) -1\n",
    "        \n",
    "        while cur_index > 1:\n",
    "            parent_index = cur_index // 2\n",
    "            if self.items[parent_index] < self.items[cur_index]:\n",
    "                self.items[parent_index], self.items[cur_index] = self.items[cur_index], self.items[parent_index]\n",
    "                cur_index = parent_index\n",
    "            else:\n",
    "                break\n",
    "        return self.items\n",
    "\n",
    "max_heap = MaxHeap()\n",
    "max_heap.insert(3)\n",
    "max_heap.insert(4)\n",
    "max_heap.insert(2)\n",
    "max_heap.insert(9)\n",
    "print(max_heap.items)  # [None, 9, 4, 2, 3] 가 출력되어야 합니다!"
   ]
  },
  {
   "cell_type": "markdown",
   "metadata": {},
   "source": [
    "### 맥스 힙에 원소 제거"
   ]
  },
  {
   "cell_type": "code",
   "execution_count": 10,
   "metadata": {},
   "outputs": [
    {
     "name": "stdout",
     "output_type": "stream",
     "text": [
      "[None, 8, 6, 7, 2, 5, 4]\n",
      "8\n",
      "[None, 7, 6, 4, 2, 5]\n"
     ]
    }
   ],
   "source": [
    "class MaxHeap:\n",
    "    def __init__(self):\n",
    "        self.items = [None]\n",
    "\n",
    "    def insert(self, value):\n",
    "        self.items.append(value)\n",
    "        cur_index = len(self.items) - 1\n",
    "\n",
    "        while cur_index > 1:  # cur_index 가 1이 되면 정상을 찍은거라 다른 것과 비교 안하셔도 됩니다!\n",
    "            parent_index = cur_index // 2\n",
    "            if self.items[parent_index] < self.items[cur_index]:\n",
    "                self.items[parent_index], self.items[cur_index] = self.items[cur_index], self.items[parent_index]\n",
    "                cur_index = parent_index\n",
    "            else:\n",
    "                break\n",
    "\n",
    "    def delete(self):\n",
    "        self.items[1], self.items[-1] = self.items[-1], self.items[1]\n",
    "        delete_node = self.items.pop()\n",
    "        parent_index = 1\n",
    "        \n",
    "        while parent_index < len(self.items):\n",
    "            cur_index1 = parent_index * 2\n",
    "            cur_index2 = parent_index * 2 + 1\n",
    "            max_index = parent_index\n",
    "            \n",
    "            if cur_index1 < len(self.items) and self.items[cur_index1] > self.items[max_index]:\n",
    "                max_index = cur_index1\n",
    "            \n",
    "            if cur_index2 < len(self.items) and self.items[cur_index2] > self.items[max_index]:\n",
    "                max_index = cur_index2\n",
    "                \n",
    "            if max_index == parent_index:\n",
    "                break\n",
    "            \n",
    "            self.items[parent_index], self.items[max_index] = self.items[max_index], self.items[parent_index]\n",
    "            return delete_node\n",
    "\n",
    "\n",
    "max_heap = MaxHeap()\n",
    "max_heap.insert(8)\n",
    "max_heap.insert(6)\n",
    "max_heap.insert(7)\n",
    "max_heap.insert(2)\n",
    "max_heap.insert(5)\n",
    "max_heap.insert(4)\n",
    "print(max_heap.items)  # [None, 8, 6, 7, 2, 5, 4]\n",
    "print(max_heap.delete())  # 8 을 반환해야 합니다!\n",
    "print(max_heap.items)  # [None, 7, 6, 4, 2, 5]"
   ]
  },
  {
   "cell_type": "code",
   "execution_count": 7,
   "metadata": {},
   "outputs": [
    {
     "name": "stdout",
     "output_type": "stream",
     "text": [
      "[None, 8, 6, 7, 2, 5, 4]\n"
     ]
    }
   ],
   "source": [
    "print(max_heap.items)"
   ]
  },
  {
   "cell_type": "markdown",
   "metadata": {},
   "source": [
    "### DFS 구현 - 재귀함수"
   ]
  },
  {
   "cell_type": "code",
   "execution_count": 5,
   "metadata": {},
   "outputs": [
    {
     "name": "stdout",
     "output_type": "stream",
     "text": [
      "[1, 2, 3, 4, 5, 6, 7, 8, 9, 10]\n"
     ]
    }
   ],
   "source": [
    "# 위의 그래프를 예시로 삼아서 인접 리스트 방식으로 표현했습니다!\n",
    "graph = {\n",
    "    1: [2, 5, 9],\n",
    "    2: [1, 3],\n",
    "    3: [2, 4],\n",
    "    4: [3],\n",
    "    5: [1, 6, 8],\n",
    "    6: [5, 7],\n",
    "    7: [6],\n",
    "    8: [5],\n",
    "    9: [1, 10],\n",
    "    10: [9]\n",
    "}\n",
    "visited = []\n",
    "\n",
    "\n",
    "def dfs_recursion(adjacent_graph, cur_node, visited_array):\n",
    "    visited_array.append(cur_node)\n",
    "    for adjacent_node in adjacent_graph[cur_node]:\n",
    "        if adjacent_node not in visited_array:\n",
    "            dfs_recursion(adjacent_graph, adjacent_node, visited_array)\n",
    "    \n",
    "    return\n",
    "\n",
    "\n",
    "dfs_recursion(graph, 1, visited)  # 1 이 시작노드입니다!\n",
    "print(visited)  # [1, 2, 3, 4, 5, 6, 7, 8, 9, 10] 이 출력되어야 합니다!"
   ]
  },
  {
   "cell_type": "code",
   "execution_count": 3,
   "metadata": {},
   "outputs": [
    {
     "name": "stdout",
     "output_type": "stream",
     "text": [
      "1\n",
      "2\n",
      "3\n",
      "4\n",
      "5\n",
      "6\n",
      "7\n",
      "8\n",
      "9\n",
      "10\n"
     ]
    }
   ],
   "source": [
    "for i in graph:\n",
    "    print(i)"
   ]
  },
  {
   "cell_type": "markdown",
   "metadata": {},
   "source": [
    "### DFS 구현 - 스택"
   ]
  },
  {
   "cell_type": "code",
   "execution_count": 7,
   "metadata": {},
   "outputs": [
    {
     "name": "stdout",
     "output_type": "stream",
     "text": [
      "[1, 9, 10, 5, 8, 6, 7, 2, 3, 4]\n"
     ]
    }
   ],
   "source": [
    "# 위의 그래프를 예시로 삼아서 인접 리스트 방식으로 표현했습니다!\n",
    "graph = {\n",
    "    1: [2, 5, 9],\n",
    "    2: [1, 3],\n",
    "    3: [2, 4],\n",
    "    4: [3],\n",
    "    5: [1, 6, 8],\n",
    "    6: [5, 7],\n",
    "    7: [6],\n",
    "    8: [5],\n",
    "    9: [1, 10],\n",
    "    10: [9]\n",
    "}\n",
    "\n",
    "\n",
    "def dfs_stack(adjacent_graph, start_node):\n",
    "    stack = [start_node]\n",
    "    visited = []\n",
    "    \n",
    "    while stack:\n",
    "        current_node = stack.pop()\n",
    "        visited.append(current_node)\n",
    "        for adjacent_node in adjacent_graph[current_node]:\n",
    "            if adjacent_node not in visited:\n",
    "                stack.append(adjacent_node)\n",
    "    \n",
    "    return visited\n",
    "\n",
    "\n",
    "print(dfs_stack(graph, 1))  # 1 이 시작노드입니다!\n",
    "# [1, 9, 10, 5, 8, 6, 7, 2, 3, 4] 이 출력되어야 합니다!"
   ]
  },
  {
   "cell_type": "markdown",
   "metadata": {},
   "source": [
    "### BFS 구현 - 큐"
   ]
  },
  {
   "cell_type": "code",
   "execution_count": 9,
   "metadata": {},
   "outputs": [
    {
     "name": "stdout",
     "output_type": "stream",
     "text": [
      "[1, 2, 3, 4, 5, 6, 7, 8, 9, 10]\n"
     ]
    }
   ],
   "source": [
    "# 위의 그래프를 예시로 삼아서 인접 리스트 방식으로 표현했습니다!\n",
    "graph = {\n",
    "    1: [2, 3, 4],\n",
    "    2: [1, 5],\n",
    "    3: [1, 6, 7],\n",
    "    4: [1, 8],\n",
    "    5: [2, 9],\n",
    "    6: [3, 10],\n",
    "    7: [3],\n",
    "    8: [4],\n",
    "    9: [5],\n",
    "    10: [6]\n",
    "}\n",
    "\n",
    "\n",
    "def bfs_queue(adj_graph, start_node):\n",
    "    queue = [start_node]\n",
    "    visited = []\n",
    "    \n",
    "    while queue:\n",
    "        current_node = queue.pop(0)\n",
    "        visited.append(current_node)\n",
    "        for adj_node in adj_graph[current_node]:\n",
    "            if adj_node not in visited:\n",
    "                queue.append(adj_node)\n",
    "    return visited\n",
    "\n",
    "\n",
    "print(bfs_queue(graph, 1))  # 1 이 시작노드입니다!\n",
    "# [1, 2, 3, 4, 5, 6, 7, 8, 9, 10] 이 출력되어야 합니다!"
   ]
  },
  {
   "cell_type": "markdown",
   "metadata": {},
   "source": [
    "### 피보나치 수열- 재귀함수"
   ]
  },
  {
   "cell_type": "code",
   "execution_count": 10,
   "metadata": {},
   "outputs": [
    {
     "name": "stdout",
     "output_type": "stream",
     "text": [
      "6765\n"
     ]
    }
   ],
   "source": [
    "input = 20\n",
    "\n",
    "\n",
    "def fibo_recursion(n):\n",
    "    if n == 1 or n == 2:\n",
    "        return 1\n",
    "    \n",
    "    return fibo_recursion(n-1) + fibo_recursion(n-2)\n",
    "\n",
    "\n",
    "print(fibo_recursion(input))  # 6765"
   ]
  },
  {
   "cell_type": "markdown",
   "metadata": {},
   "source": [
    "### 단점 - 숫자가 클수록 시간이 오래걸린다"
   ]
  },
  {
   "cell_type": "markdown",
   "metadata": {},
   "source": [
    "### 피보나치 수열- 동적 계획법"
   ]
  },
  {
   "cell_type": "code",
   "execution_count": 12,
   "metadata": {},
   "outputs": [
    {
     "name": "stdout",
     "output_type": "stream",
     "text": [
      "12586269025\n"
     ]
    }
   ],
   "source": [
    "input = 50\n",
    "\n",
    "# memo 라는 변수에 Fibo(1)과 Fibo(2) 값을 저장해놨습니다!\n",
    "memo = {\n",
    "    1: 1,\n",
    "    2: 1\n",
    "}\n",
    "\n",
    "\n",
    "def fibo_dynamic_programming(n, fibo_memo):\n",
    "    if n in fibo_memo:\n",
    "        return fibo_memo[n]\n",
    "    \n",
    "    nth_fibo = fibo_dynamic_programming(n-1, fibo_memo) + fibo_dynamic_programming(n-2, fibo_memo)\n",
    "    fibo_memo[n] = nth_fibo\n",
    "    return nth_fibo\n",
    "\n",
    "\n",
    "print(fibo_dynamic_programming(input, memo))"
   ]
  },
  {
   "cell_type": "markdown",
   "metadata": {},
   "source": [
    "### 4주차 숙제"
   ]
  },
  {
   "cell_type": "markdown",
   "metadata": {},
   "source": [
    "### 농심 라면 공장"
   ]
  },
  {
   "cell_type": "code",
   "execution_count": 24,
   "metadata": {},
   "outputs": [
    {
     "name": "stdout",
     "output_type": "stream",
     "text": [
      "2\n",
      "정답 = 2 / 현재 풀이 값 =  2\n",
      "정답 = 4 / 현재 풀이 값 =  2\n",
      "정답 = 1 / 현재 풀이 값 =  1\n"
     ]
    }
   ],
   "source": [
    "import heapq\n",
    "\n",
    "ramen_stock = 4\n",
    "supply_dates = [4, 10, 15]\n",
    "supply_supplies = [5, 20, 10]\n",
    "supply_recover_k = 30\n",
    "\n",
    "def get_minimum_count_of_overseas_supply(stock, dates, supplies, k):\n",
    "    result = 0\n",
    "    max_heap = []\n",
    "    date_index = 0\n",
    "    \n",
    "    while stock < k:\n",
    "        while date_index < len(dates) and dates[date_index] <= stock:\n",
    "            heapq.heappush(max_heap, -max(supplies))\n",
    "            date_index += 1\n",
    "        \n",
    "        result += 1\n",
    "        heappop = heapq.heappop(max_heap)\n",
    "        stock += -heappop\n",
    "    \n",
    "    return result\n",
    "\n",
    "print(get_minimum_count_of_overseas_supply(ramen_stock, supply_dates, supply_supplies, supply_recover_k))\n",
    "print(\"정답 = 2 / 현재 풀이 값 = \", get_minimum_count_of_overseas_supply(4, [4, 10, 15], [20, 5, 10], 30))\n",
    "print(\"정답 = 4 / 현재 풀이 값 = \", get_minimum_count_of_overseas_supply(4, [4, 10, 15, 20], [20, 5, 10, 5], 40))\n",
    "print(\"정답 = 1 / 현재 풀이 값 = \", get_minimum_count_of_overseas_supply(2, [1, 10], [10, 100], 11))\n"
   ]
  },
  {
   "cell_type": "markdown",
   "metadata": {},
   "source": [
    "### 샤오미 로봇 청소기"
   ]
  },
  {
   "cell_type": "code",
   "execution_count": null,
   "metadata": {},
   "outputs": [],
   "source": [
    "current_r, current_c, current_d = 7, 4, 0\n",
    "current_room_map = [\n",
    "    [1, 1, 1, 1, 1, 1, 1, 1, 1, 1],\n",
    "    [1, 0, 0, 0, 0, 0, 0, 0, 0, 1],\n",
    "    [1, 0, 0, 0, 1, 1, 1, 1, 0, 1],\n",
    "    [1, 0, 0, 1, 1, 0, 0, 0, 0, 1],\n",
    "    [1, 0, 1, 1, 0, 0, 0, 0, 0, 1],\n",
    "    [1, 0, 0, 0, 0, 0, 0, 0, 0, 1],\n",
    "    [1, 0, 0, 0, 0, 0, 0, 1, 0, 1],\n",
    "    [1, 0, 0, 0, 0, 0, 1, 1, 0, 1],\n",
    "    [1, 0, 0, 0, 0, 0, 1, 1, 0, 1],\n",
    "    [1, 0, 0, 0, 0, 0, 0, 0, 0, 1],\n",
    "    [1, 1, 1, 1, 1, 1, 1, 1, 1, 1]\n",
    "]\n",
    "\n",
    "\n",
    "def get_count_of_departments_cleaned_by_robot_vacuum(r, c, d, room_map):\n",
    "    \n",
    "    return\n",
    "\n",
    "\n",
    "# 57 가 출력되어야 합니다!\n",
    "print(get_count_of_departments_cleaned_by_robot_vacuum(current_r, current_c, current_d, current_room_map))\n",
    "current_room_map2 = [\n",
    "    [1, 1, 1, 1, 1, 1, 1, 1, 1, 1],\n",
    "    [1, 0, 1, 1, 0, 0, 0, 0, 0, 1],\n",
    "    [1, 0, 0, 0, 1, 1, 1, 1, 0, 1],\n",
    "    [1, 0, 0, 1, 1, 0, 0, 0, 0, 1],\n",
    "    [1, 0, 1, 1, 0, 0, 0, 0, 0, 1],\n",
    "    [1, 0, 0, 0, 0, 0, 0, 0, 0, 1],\n",
    "    [1, 0, 0, 0, 0, 0, 0, 1, 0, 1],\n",
    "    [1, 0, 0, 0, 0, 0, 1, 1, 0, 1],\n",
    "    [1, 0, 0, 0, 0, 0, 1, 1, 0, 1],\n",
    "    [1, 0, 0, 0, 0, 0, 0, 0, 0, 1],\n",
    "    [1, 1, 1, 1, 1, 1, 1, 1, 1, 1]\n",
    "]\n",
    "print(\"정답 = 29 / 현재 풀이 값 = \", get_count_of_departments_cleaned_by_robot_vacuum(6,3,1,current_room_map2))\n",
    "current_room_map3 = [\n",
    "    [1, 1, 1, 1, 1, 1, 1, 1, 1, 1],\n",
    "    [1, 0, 1, 1, 0, 0, 0, 0, 0, 1],\n",
    "    [1, 0, 0, 0, 1, 1, 1, 1, 0, 1],\n",
    "    [1, 0, 0, 1, 1, 0, 0, 0, 0, 1],\n",
    "    [1, 0, 1, 1, 0, 0, 0, 0, 0, 1],\n",
    "    [1, 0, 0, 0, 0, 0, 0, 0, 0, 1],\n",
    "    [1, 0, 0, 0, 0, 0, 0, 1, 0, 1],\n",
    "    [1, 0, 0, 0, 0, 0, 1, 1, 0, 1],\n",
    "    [1, 0, 0, 1, 0, 0, 1, 1, 0, 1],\n",
    "    [1, 0, 0, 0, 0, 0, 0, 0, 0, 1],\n",
    "    [1, 1, 1, 1, 1, 1, 1, 1, 1, 1]\n",
    "]\n",
    "print(\"정답 = 33 / 현재 풀이 값 = \", get_count_of_departments_cleaned_by_robot_vacuum(7,4,1,current_room_map3))\n",
    "current_room_map4 = [\n",
    "    [1, 1, 1, 1, 1, 1, 1, 1, 1, 1],\n",
    "    [1, 0, 1, 1, 0, 0, 0, 0, 0, 1],\n",
    "    [1, 0, 1, 0, 1, 1, 1, 1, 0, 1],\n",
    "    [1, 0, 0, 1, 1, 0, 0, 0, 0, 1],\n",
    "    [1, 0, 1, 1, 0, 0, 0, 0, 0, 1],\n",
    "    [1, 0, 0, 0, 0, 0, 0, 0, 0, 1],\n",
    "    [1, 0, 0, 0, 0, 0, 0, 1, 0, 1],\n",
    "    [1, 0, 0, 0, 0, 0, 1, 1, 0, 1],\n",
    "    [1, 0, 0, 1, 0, 0, 1, 1, 0, 1],\n",
    "    [1, 0, 0, 0, 0, 0, 0, 0, 0, 1],\n",
    "    [1, 1, 1, 1, 1, 1, 1, 1, 1, 1]\n",
    "]\n",
    "print(\"정답 = 25 / 현재 풀이 값 = \", get_count_of_departments_cleaned_by_robot_vacuum(6,2,0,current_room_map4))"
   ]
  }
 ],
 "metadata": {
  "kernelspec": {
   "display_name": "Python 3",
   "language": "python",
   "name": "python3"
  },
  "language_info": {
   "codemirror_mode": {
    "name": "ipython",
    "version": 3
   },
   "file_extension": ".py",
   "mimetype": "text/x-python",
   "name": "python",
   "nbconvert_exporter": "python",
   "pygments_lexer": "ipython3",
   "version": "3.8.3"
  }
 },
 "nbformat": 4,
 "nbformat_minor": 4
}
